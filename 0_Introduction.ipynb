{
 "cells": [
  {
   "cell_type": "markdown",
   "metadata": {},
   "source": [
    "# Image processing"
   ]
  },
  {
   "cell_type": "markdown",
   "metadata": {},
   "source": [
    "There are many related topics.\n",
    "\n",
    "* Image Processing\n",
    "* Computer Vision\n",
    "* Machine Learning\n",
    "* Artificial Intelligence"
   ]
  },
  {
   "cell_type": "markdown",
   "metadata": {},
   "source": [
    "$\\rhd$ What is the relation of them?"
   ]
  },
  {
   "cell_type": "markdown",
   "metadata": {},
   "source": [
    "## Sources of the images"
   ]
  },
  {
   "cell_type": "markdown",
   "metadata": {},
   "source": [
    "Usually:\n",
    "* the source of the images is usually a camera or a scanner,\n",
    "* the image is a two dimensional (intensity) matrix."
   ]
  },
  {
   "cell_type": "markdown",
   "metadata": {},
   "source": [
    "Further sources can be (for instance):\n",
    "* MRI (*Magnetic Resonance Imaging*),\n",
    "* Heat camera,\n",
    "* Laser distance sensor, LiDAR (*Light Detection And Ranging*)."
   ]
  },
  {
   "cell_type": "markdown",
   "metadata": {},
   "source": [
    "The image is not necessarily two dimensional.\n",
    "* 1 dimensional, for example distance slices,\n",
    "* 3 dimensional, volumetric data,\n",
    "* 3 dimensional, video capture as the series of 2 dimensional frames.\n",
    "\n",
    "*Further combinations and special cases are also possible.*"
   ]
  },
  {
   "cell_type": "markdown",
   "metadata": {},
   "source": [
    "The source also can be an output of an other software.\n",
    "* OCR (*Optical Character Recognition*),\n",
    "* Decaptcha (*Completely Automated Public Turing test to tell Computer and Human Apart*),\n",
    "* Machine Learning using computer generated images."
   ]
  },
  {
   "cell_type": "markdown",
   "metadata": {},
   "source": [
    "## Image formats"
   ]
  },
  {
   "cell_type": "markdown",
   "metadata": {},
   "source": [
    "The image formats can be referred by its commonly used extensions."
   ]
  },
  {
   "cell_type": "markdown",
   "metadata": {},
   "source": [
    "We can describe them by using the following criterias.\n",
    "\n",
    "* Vector graphical or raster image?\n",
    "* Binary or text format?\n",
    "* Lossless or lossy format?\n",
    "* Raw or compressed?\n",
    "* Does it support palettes?\n",
    "* How many colors can be managed at the same time?\n",
    "* Does it support transparency?\n",
    "* Does it support interlacing?\n",
    "* What is its license?\n",
    "* How well is it supported?"
   ]
  },
  {
   "cell_type": "markdown",
   "metadata": {},
   "source": [
    "![Image formats](figures/image_formats.svg)"
   ]
  },
  {
   "cell_type": "markdown",
   "metadata": {},
   "source": [
    "$\\rhd$ What could be the reason of alternative image formats?"
   ]
  },
  {
   "cell_type": "markdown",
   "metadata": {},
   "source": [
    "$\\rhd$ Let assume that we have the same image in BMP, PNG and JPG format. What can we say about the size of the image files?"
   ]
  },
  {
   "cell_type": "markdown",
   "metadata": {},
   "source": [
    "## Application areas"
   ]
  },
  {
   "cell_type": "markdown",
   "metadata": {},
   "source": [
    "Some of the main application areas of image processing:\n",
    "\n",
    "* Improving, enhancing the quality of the image,\n",
    "* Image transformations,\n",
    "* Extracting the underlying information,\n",
    "* Indexing, query."
   ]
  },
  {
   "cell_type": "markdown",
   "metadata": {},
   "source": [
    "## Tools"
   ]
  },
  {
   "cell_type": "markdown",
   "metadata": {},
   "source": [
    "In the following we briefly overview some of the available tools for computer vision and machine learning."
   ]
  },
  {
   "cell_type": "markdown",
   "metadata": {},
   "source": [
    "**OpenCV**"
   ]
  },
  {
   "cell_type": "markdown",
   "metadata": {},
   "source": [
    "* Open Computer Vision\n",
    "* Mainly used via C++ and Python\n",
    "* https://opencv.org/"
   ]
  },
  {
   "cell_type": "code",
   "execution_count": null,
   "metadata": {},
   "outputs": [],
   "source": [
    "x = 1"
   ]
  },
  {
   "cell_type": "code",
   "execution_count": null,
   "metadata": {},
   "outputs": [],
   "source": [
    "type(x)"
   ]
  },
  {
   "cell_type": "markdown",
   "metadata": {},
   "source": [
    "**NumPy**\n",
    "\n",
    "* Numerical Python\n",
    "* Vectors, matrices\n",
    "* https://numpy.org/"
   ]
  },
  {
   "cell_type": "markdown",
   "metadata": {},
   "source": [
    "**Matplotlib**\n",
    "\n",
    "* Different kind of plotting\n",
    "* It is able to handle NumPy types\n",
    "* https://matplotlib.org/"
   ]
  },
  {
   "cell_type": "markdown",
   "metadata": {},
   "source": [
    "**Scikit Learn**\n",
    "\n",
    "* Machine learning library of Python\n",
    "* https://scikit-learn.org/stable/"
   ]
  },
  {
   "cell_type": "markdown",
   "metadata": {},
   "source": [
    "**Jupyter**\n",
    "\n",
    "* Interactive computing framework\n",
    "* Support many programming languages\n",
    "* Its main format is the notebook\n",
    "* https://jupyter.org/"
   ]
  },
  {
   "cell_type": "markdown",
   "metadata": {},
   "source": [
    "**GIMP**\n",
    "\n",
    "* *GNOME Image Manipulation Program*, *GNU Network Object Model Environment*, *GNU Not Unix*\n",
    "* Raster editor\n",
    "* An open source alternative of PhotoShop\n",
    "* https://www.gimp.org/"
   ]
  },
  {
   "cell_type": "code",
   "execution_count": null,
   "metadata": {},
   "outputs": [],
   "source": []
  }
 ],
 "metadata": {
  "kernelspec": {
   "display_name": "Python 3 (ipykernel)",
   "language": "python",
   "name": "python3"
  },
  "language_info": {
   "codemirror_mode": {
    "name": "ipython",
    "version": 3
   },
   "file_extension": ".py",
   "mimetype": "text/x-python",
   "name": "python",
   "nbconvert_exporter": "python",
   "pygments_lexer": "ipython3",
   "version": "3.13.2"
  }
 },
 "nbformat": 4,
 "nbformat_minor": 4
}
